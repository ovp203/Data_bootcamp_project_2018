{
  "nbformat": 4,
  "nbformat_minor": 0,
  "metadata": {
    "colab": {
      "name": "Databootcamp.ipynb",
      "version": "0.3.2",
      "views": {},
      "default_view": {},
      "provenance": [],
      "collapsed_sections": []
    },
    "kernelspec": {
      "name": "python2",
      "display_name": "Python 2"
    }
  },
  "cells": [
    {
      "metadata": {
        "id": "3OwbEgC16bRb",
        "colab_type": "text"
      },
      "cell_type": "markdown",
      "source": [
        "This project was completed by \n",
        "### Alia Abboud and Oleksandra Plyska,\n",
        "here in partial fulfilment of ECON-UB.0232, Data Bootcamp, Spring 2018. We certify that the NYU Stern Honor Code applies to this project.\n",
        "In particular, we have:\n",
        "Clearly acknowledged the work and efforts of others when submitting written work as our own.\n",
        "The incorporation of the work of others–including but not limited to their ideas, data, creative\n",
        "expression, and direct quotations (which should be designated with quotation marks), or paraphrasing\n",
        "thereof– has been fully and appropriately referenced using notations both in the text\n",
        "and the bibliography.\n",
        "And we understand that:\n",
        "Submitting the same or substantially similar work in multiple courses, either in the same semester\n",
        "or in a different semester, without the express approval of all instructors is strictly forbidden.\n",
        "We acknowledge that a failure to abide by NYU Stern Honor Code will result in a failing grade for\n",
        "the project and course.\n",
        "## Project Description\n",
        "This project aims to study marital age in different countries. It does so by studying the relationship between marital age for females and different economic and social factors. The aim of this project is to see if the average age of when females get married in a country has an effect on or affected by other important socioeconomic variables like GDP, female unemployment, and female education. The data we have was obtained from the World Bank's website: https://data.worldbank.org/. The data is specific for the year 2011 as it is the most recent year with sufficient data. We use graphs and maps to present the results of thi data as well as some statistical measurement. Our data suggests a positive correlation between marital age and GDP and Female students, but a negative correlation between marital age and unemployed females. However, it also shows a weak correlation so the results are not reliable. Throughout this project, there will be some comentaries to further elaborate results and explain the process."
      ]
    },
    {
      "metadata": {
        "id": "hy5XUfqnmXxm",
        "colab_type": "code",
        "colab": {
          "autoexec": {
            "startup": false,
            "wait_interval": 0
          }
        }
      },
      "cell_type": "code",
      "source": [
        "import pandas as pd\n",
        "import requests\n",
        "import numpy as np \n",
        "import matplotlib.pyplot as plt \n",
        "import requests, io      \n",
        "import zipfile as zf            \n",
        "import shutil                    \n",
        "import os     "
      ],
      "execution_count": 0,
      "outputs": []
    },
    {
      "metadata": {
        "id": "ywI-dn3uiYuz",
        "colab_type": "code",
        "colab": {
          "autoexec": {
            "startup": false,
            "wait_interval": 0
          }
        }
      },
      "cell_type": "code",
      "source": [
        "url1 = \"https://raw.githubusercontent.com/ovp203/My_first_repository_/master/SMAM_data_2011.csv\"\n",
        "url2 = \"https://raw.githubusercontent.com/ovp203/My_first_repository_/master/GDP_data_2011.csv\"\n",
        "url3 = \"https://raw.githubusercontent.com/ovp203/My_first_repository_/master/unemployment_data_cleared.csv\"\n",
        "url5 = \"https://raw.githubusercontent.com/ovp203/My_first_repository_/master/education_data.csv\"\n",
        "url6 = \"https://raw.githubusercontent.com/ovp203/My_first_repository_/master/population_data1.csv\"\n",
        "\n",
        "GDPdata = pd.read_csv(url2)\n",
        "SMAMdata = pd.read_csv(url1)\n",
        "unemployment_data = pd.read_csv(url3)\n",
        "EDUCATIONdata = pd.read_csv(url5)\n",
        "popdata = pd.read_csv(url6)"
      ],
      "execution_count": 0,
      "outputs": []
    },
    {
      "metadata": {
        "id": "AqV22JnP8d3s",
        "colab_type": "text"
      },
      "cell_type": "markdown",
      "source": [
        "After importing the data, we started cleaning it by removing the unwanted variables to make it easier to read"
      ]
    },
    {
      "metadata": {
        "id": "KfCEaNoosZiP",
        "colab_type": "code",
        "colab": {
          "autoexec": {
            "startup": false,
            "wait_interval": 0
          }
        }
      },
      "cell_type": "code",
      "source": [
        "SMAMdata.drop([\"ISO code\"], axis=1, inplace = True)\n",
        "SMAMdata.drop([\"YearStart\"], axis=1, inplace = True)\n",
        "SMAMdata.drop([\"YearEnd\"], axis=1, inplace = True)\n",
        "SMAMdata.drop([\"Sex\"], axis=1, inplace = True)\n",
        "SMAMdata.drop([\"DataProcess\"], axis=1, inplace = True)\n",
        "SMAMdata.drop([\"DataCatalog ShortName\"], axis=1, inplace = True)\n",
        "SMAMdata.drop([\"DataCatalog ID\"], axis=1, inplace = True)\n",
        "SMAMdata.drop([\"DataCatalog LongName\"], axis=1, inplace = True)\n",
        "SMAMdata.drop([\"Data Source\"], axis=1, inplace = True)\n",
        "SMAMdata.drop([\"Note on Data\"], axis=1, inplace = True)\n",
        "SMAMdata.drop([\"Note on Country and Population\"], axis=1, inplace = True)"
      ],
      "execution_count": 0,
      "outputs": []
    },
    {
      "metadata": {
        "id": "HB1WXMb6rTo3",
        "colab_type": "code",
        "colab": {
          "autoexec": {
            "startup": false,
            "wait_interval": 0
          }
        }
      },
      "cell_type": "code",
      "source": [
        "GDPdata.drop([\"Country Code\"], axis=1, inplace = True)\n",
        "GDPdata.drop([\"Indicator Name\"], axis=1, inplace = True)\n",
        "GDPdata.drop([\"Indicator Code\"], axis=1, inplace = True)"
      ],
      "execution_count": 0,
      "outputs": []
    },
    {
      "metadata": {
        "id": "y71dEF4AOsGg",
        "colab_type": "code",
        "colab": {
          "autoexec": {
            "startup": false,
            "wait_interval": 0
          }
        }
      },
      "cell_type": "code",
      "source": [
        "unemployment_data.drop([\"Series\"], axis=1, inplace = True)\n",
        "unemployment_data.drop([\"Country Code\"], axis=1, inplace = True)\n",
        "unemployment_data.drop([\"VarName\"], axis=1, inplace = True)"
      ],
      "execution_count": 0,
      "outputs": []
    },
    {
      "metadata": {
        "id": "or6M_mxoxeEN",
        "colab_type": "code",
        "colab": {
          "autoexec": {
            "startup": false,
            "wait_interval": 0
          }
        }
      },
      "cell_type": "code",
      "source": [
        "EDUCATIONdata.drop([\"Country Code\"], axis=1, inplace = True)\n",
        "EDUCATIONdata.drop([\"Indicator Code\"], axis=1, inplace = True)\n",
        "EDUCATIONdata.drop([\"Indicator Name\"], axis=1, inplace = True)"
      ],
      "execution_count": 0,
      "outputs": []
    },
    {
      "metadata": {
        "id": "LQDUXzOc81fF",
        "colab_type": "text"
      },
      "cell_type": "markdown",
      "source": [
        "We then rename the variables to make it clearer:\n",
        "1) Marital Age is the average age of a female when she first gets married in every country.\n",
        "2) GDP is the GDP of the country\n",
        "3) Unemployed females is the percentage of females who are unemployed from the total   females in the labor force.\n",
        "4) Population is the population of each country.\n",
        "5) Female students is the percentage of students in secondary education that are females\n"
      ]
    },
    {
      "metadata": {
        "id": "B9Sj0avzQRIh",
        "colab_type": "code",
        "colab": {
          "autoexec": {
            "startup": false,
            "wait_interval": 0
          }
        }
      },
      "cell_type": "code",
      "source": [
        "SMAMdata.rename(columns = {\"DataValue\": \"Marital Age\", \"Country or area\": \"Country Name\" }, inplace = True)\n",
        "GDPdata.rename(columns = {\"2011\": \"GDP\"}, inplace = True)\n",
        "unemployment_data.rename(columns = {\"Value\": \"Unemployed Females\"}, inplace = True)\n",
        "popdata.rename(columns = {\"2011\": \"Population\"}, inplace = True)\n",
        "EDUCATIONdata.rename(columns = {\"2011\": \"Female Students\"}, inplace = True)"
      ],
      "execution_count": 0,
      "outputs": []
    },
    {
      "metadata": {
        "id": "8YIrOsuU_4LD",
        "colab_type": "text"
      },
      "cell_type": "markdown",
      "source": [
        "Following, we merge all data sets together to get one big data set."
      ]
    },
    {
      "metadata": {
        "id": "tvk06DQ_RJNo",
        "colab_type": "code",
        "colab": {
          "autoexec": {
            "startup": false,
            "wait_interval": 0
          }
        }
      },
      "cell_type": "code",
      "source": [
        "combo = pd.merge(SMAMdata,GDPdata,\n",
        "                 on='Country Name',  \n",
        "                 how='left',        \n",
        "                 indicator=True)\n",
        " \n",
        "combo3 = pd.merge(combo2, unemployment_data,\n",
        "                 on= 'Country Name',\n",
        "                 how = 'left')\n",
        "combo3 = pd.merge(combo3, popdata,\n",
        "                 on= 'Country Name',\n",
        "                 how = 'left')\n",
        "DataSet = pd.merge(combo3,EDUCATIONdata,\n",
        "                  on= 'Country Name',\n",
        "                  how= 'left')"
      ],
      "execution_count": 0,
      "outputs": []
    },
    {
      "metadata": {
        "id": "SnRm8kUJxn1i",
        "colab_type": "code",
        "colab": {
          "autoexec": {
            "startup": false,
            "wait_interval": 0
          }
        }
      },
      "cell_type": "code",
      "source": [
        "DataSet.drop([\"_merge\"], axis=1, inplace = True)"
      ],
      "execution_count": 0,
      "outputs": []
    },
    {
      "metadata": {
        "id": "MzgQMn1BAUPT",
        "colab_type": "text"
      },
      "cell_type": "markdown",
      "source": [
        "Here we are making sure that all variables are floats so that we can round them to the nearest 1 decimal place"
      ]
    },
    {
      "metadata": {
        "id": "GLkFwZWaz0xJ",
        "colab_type": "code",
        "colab": {
          "autoexec": {
            "startup": false,
            "wait_interval": 0
          },
          "base_uri": "https://localhost:8080/",
          "height": 161
        },
        "outputId": "2a0dfc42-aded-491c-919f-a05310b694a5",
        "executionInfo": {
          "status": "ok",
          "timestamp": 1526335680952,
          "user_tz": 240,
          "elapsed": 255,
          "user": {
            "displayName": "Oleksandra Plyska",
            "photoUrl": "https://lh3.googleusercontent.com/a/default-user=s128",
            "userId": "106365156166456501273"
          }
        }
      },
      "cell_type": "code",
      "source": [
        "DataSet.dtypes "
      ],
      "execution_count": 320,
      "outputs": [
        {
          "output_type": "execute_result",
          "data": {
            "text/plain": [
              "Country Name           object\n",
              "Marital Age           float64\n",
              "GDP                   float64\n",
              "LFPR                  float64\n",
              "Unemployed Females    float64\n",
              "Population            float64\n",
              "Female Students       float64\n",
              "dtype: object"
            ]
          },
          "metadata": {
            "tags": []
          },
          "execution_count": 320
        }
      ]
    },
    {
      "metadata": {
        "id": "YEG8fqR_AZQV",
        "colab_type": "text"
      },
      "cell_type": "markdown",
      "source": [
        "Just viewing the data set to make sure we are good and proceed"
      ]
    },
    {
      "metadata": {
        "id": "6NSuP-6-WXG_",
        "colab_type": "code",
        "colab": {
          "autoexec": {
            "startup": false,
            "wait_interval": 0
          },
          "base_uri": "https://localhost:8080/",
          "height": 204
        },
        "outputId": "ef4e5361-8214-4818-d9a4-8a1086e3dfa3",
        "executionInfo": {
          "status": "ok",
          "timestamp": 1526335682800,
          "user_tz": 240,
          "elapsed": 469,
          "user": {
            "displayName": "Oleksandra Plyska",
            "photoUrl": "https://lh3.googleusercontent.com/a/default-user=s128",
            "userId": "106365156166456501273"
          }
        }
      },
      "cell_type": "code",
      "source": [
        "DataSet.head()"
      ],
      "execution_count": 321,
      "outputs": [
        {
          "output_type": "execute_result",
          "data": {
            "text/html": [
              "<div>\n",
              "<style scoped>\n",
              "    .dataframe tbody tr th:only-of-type {\n",
              "        vertical-align: middle;\n",
              "    }\n",
              "\n",
              "    .dataframe tbody tr th {\n",
              "        vertical-align: top;\n",
              "    }\n",
              "\n",
              "    .dataframe thead th {\n",
              "        text-align: right;\n",
              "    }\n",
              "</style>\n",
              "<table border=\"1\" class=\"dataframe\">\n",
              "  <thead>\n",
              "    <tr style=\"text-align: right;\">\n",
              "      <th></th>\n",
              "      <th>Country Name</th>\n",
              "      <th>Marital Age</th>\n",
              "      <th>GDP</th>\n",
              "      <th>LFPR</th>\n",
              "      <th>Unemployed Females</th>\n",
              "      <th>Population</th>\n",
              "      <th>Female Students</th>\n",
              "    </tr>\n",
              "  </thead>\n",
              "  <tbody>\n",
              "    <tr>\n",
              "      <th>0</th>\n",
              "      <td>Albania</td>\n",
              "      <td>25.1</td>\n",
              "      <td>1.289087e+10</td>\n",
              "      <td>36.070000</td>\n",
              "      <td>13.750000</td>\n",
              "      <td>2.905195</td>\n",
              "      <td>47.347382</td>\n",
              "    </tr>\n",
              "    <tr>\n",
              "      <th>1</th>\n",
              "      <td>Armenia</td>\n",
              "      <td>24.6</td>\n",
              "      <td>1.014211e+10</td>\n",
              "      <td>31.430000</td>\n",
              "      <td>19.610001</td>\n",
              "      <td>2.875581</td>\n",
              "      <td>47.848419</td>\n",
              "    </tr>\n",
              "    <tr>\n",
              "      <th>2</th>\n",
              "      <td>Australia</td>\n",
              "      <td>29.9</td>\n",
              "      <td>1.390557e+12</td>\n",
              "      <td>67.470001</td>\n",
              "      <td>5.300000</td>\n",
              "      <td>22.340024</td>\n",
              "      <td>NaN</td>\n",
              "    </tr>\n",
              "    <tr>\n",
              "      <th>3</th>\n",
              "      <td>Austria</td>\n",
              "      <td>27.1</td>\n",
              "      <td>4.311203e+11</td>\n",
              "      <td>54.810001</td>\n",
              "      <td>4.580000</td>\n",
              "      <td>8.391643</td>\n",
              "      <td>47.758678</td>\n",
              "    </tr>\n",
              "    <tr>\n",
              "      <th>4</th>\n",
              "      <td>Bangladesh</td>\n",
              "      <td>18.6</td>\n",
              "      <td>1.286379e+11</td>\n",
              "      <td>NaN</td>\n",
              "      <td>NaN</td>\n",
              "      <td>153.911916</td>\n",
              "      <td>52.526081</td>\n",
              "    </tr>\n",
              "  </tbody>\n",
              "</table>\n",
              "</div>"
            ],
            "text/plain": [
              "  Country Name  Marital Age           GDP       LFPR  Unemployed Females  \\\n",
              "0      Albania         25.1  1.289087e+10  36.070000           13.750000   \n",
              "1      Armenia         24.6  1.014211e+10  31.430000           19.610001   \n",
              "2    Australia         29.9  1.390557e+12  67.470001            5.300000   \n",
              "3      Austria         27.1  4.311203e+11  54.810001            4.580000   \n",
              "4   Bangladesh         18.6  1.286379e+11        NaN                 NaN   \n",
              "\n",
              "   Population  Female Students  \n",
              "0    2.905195        47.347382  \n",
              "1    2.875581        47.848419  \n",
              "2   22.340024              NaN  \n",
              "3    8.391643        47.758678  \n",
              "4  153.911916        52.526081  "
            ]
          },
          "metadata": {
            "tags": []
          },
          "execution_count": 321
        }
      ]
    },
    {
      "metadata": {
        "id": "qZT2seJUAeDr",
        "colab_type": "text"
      },
      "cell_type": "markdown",
      "source": [
        "We are rounding all the variables to 1 decimal place."
      ]
    },
    {
      "metadata": {
        "id": "Z_qzUpQtUIbo",
        "colab_type": "code",
        "colab": {
          "autoexec": {
            "startup": false,
            "wait_interval": 0
          }
        }
      },
      "cell_type": "code",
      "source": [
        "desred_decimals = 1\n",
        "DataSet['Female Students'] = DataSet['Female Students'].apply(lambda x: round(x,desred_decimals))\n",
        "DataSet['Unemployed Females'] = DataSet['Unemployed Females'].apply(lambda x: round(x,desred_decimals))\n",
        "\n",
        "DataSet['Marital Age'] = DataSet['Marital Age'].apply(lambda x: round(x,desred_decimals))\n",
        "DataSet['GDP'] = DataSet['GDP'].apply(lambda x: round(x,desred_decimals))"
      ],
      "execution_count": 0,
      "outputs": []
    },
    {
      "metadata": {
        "id": "bYqaye57gLb8",
        "colab_type": "code",
        "colab": {
          "autoexec": {
            "startup": false,
            "wait_interval": 0
          },
          "base_uri": "https://localhost:8080/",
          "height": 204
        },
        "outputId": "25685ef3-71de-4b94-df27-2308b7af2ee0",
        "executionInfo": {
          "status": "ok",
          "timestamp": 1526335692475,
          "user_tz": 240,
          "elapsed": 317,
          "user": {
            "displayName": "Oleksandra Plyska",
            "photoUrl": "https://lh3.googleusercontent.com/a/default-user=s128",
            "userId": "106365156166456501273"
          }
        }
      },
      "cell_type": "code",
      "source": [
        "DataSet.head()"
      ],
      "execution_count": 325,
      "outputs": [
        {
          "output_type": "execute_result",
          "data": {
            "text/html": [
              "<div>\n",
              "<style scoped>\n",
              "    .dataframe tbody tr th:only-of-type {\n",
              "        vertical-align: middle;\n",
              "    }\n",
              "\n",
              "    .dataframe tbody tr th {\n",
              "        vertical-align: top;\n",
              "    }\n",
              "\n",
              "    .dataframe thead th {\n",
              "        text-align: right;\n",
              "    }\n",
              "</style>\n",
              "<table border=\"1\" class=\"dataframe\">\n",
              "  <thead>\n",
              "    <tr style=\"text-align: right;\">\n",
              "      <th></th>\n",
              "      <th>Country Name</th>\n",
              "      <th>Marital Age</th>\n",
              "      <th>GDP</th>\n",
              "      <th>LFPR</th>\n",
              "      <th>Unemployed Females</th>\n",
              "      <th>Population</th>\n",
              "      <th>Female Students</th>\n",
              "    </tr>\n",
              "  </thead>\n",
              "  <tbody>\n",
              "    <tr>\n",
              "      <th>0</th>\n",
              "      <td>Albania</td>\n",
              "      <td>25.1</td>\n",
              "      <td>1.289087e+10</td>\n",
              "      <td>36.070000</td>\n",
              "      <td>13.8</td>\n",
              "      <td>2.905195</td>\n",
              "      <td>47.3</td>\n",
              "    </tr>\n",
              "    <tr>\n",
              "      <th>1</th>\n",
              "      <td>Armenia</td>\n",
              "      <td>24.6</td>\n",
              "      <td>1.014211e+10</td>\n",
              "      <td>31.430000</td>\n",
              "      <td>19.6</td>\n",
              "      <td>2.875581</td>\n",
              "      <td>47.8</td>\n",
              "    </tr>\n",
              "    <tr>\n",
              "      <th>2</th>\n",
              "      <td>Australia</td>\n",
              "      <td>29.9</td>\n",
              "      <td>1.390557e+12</td>\n",
              "      <td>67.470001</td>\n",
              "      <td>5.3</td>\n",
              "      <td>22.340024</td>\n",
              "      <td>NaN</td>\n",
              "    </tr>\n",
              "    <tr>\n",
              "      <th>3</th>\n",
              "      <td>Austria</td>\n",
              "      <td>27.1</td>\n",
              "      <td>4.311203e+11</td>\n",
              "      <td>54.810001</td>\n",
              "      <td>4.6</td>\n",
              "      <td>8.391643</td>\n",
              "      <td>47.8</td>\n",
              "    </tr>\n",
              "    <tr>\n",
              "      <th>4</th>\n",
              "      <td>Bangladesh</td>\n",
              "      <td>18.6</td>\n",
              "      <td>1.286379e+11</td>\n",
              "      <td>NaN</td>\n",
              "      <td>NaN</td>\n",
              "      <td>153.911916</td>\n",
              "      <td>52.5</td>\n",
              "    </tr>\n",
              "  </tbody>\n",
              "</table>\n",
              "</div>"
            ],
            "text/plain": [
              "  Country Name  Marital Age           GDP       LFPR  Unemployed Females  \\\n",
              "0      Albania         25.1  1.289087e+10  36.070000                13.8   \n",
              "1      Armenia         24.6  1.014211e+10  31.430000                19.6   \n",
              "2    Australia         29.9  1.390557e+12  67.470001                 5.3   \n",
              "3      Austria         27.1  4.311203e+11  54.810001                 4.6   \n",
              "4   Bangladesh         18.6  1.286379e+11        NaN                 NaN   \n",
              "\n",
              "   Population  Female Students  \n",
              "0    2.905195             47.3  \n",
              "1    2.875581             47.8  \n",
              "2   22.340024              NaN  \n",
              "3    8.391643             47.8  \n",
              "4  153.911916             52.5  "
            ]
          },
          "metadata": {
            "tags": []
          },
          "execution_count": 325
        }
      ]
    },
    {
      "metadata": {
        "id": "CTjXP0MhAz91",
        "colab_type": "text"
      },
      "cell_type": "markdown",
      "source": [
        "We then sort the values to be in ascending order of marital age to be able to plot the graph"
      ]
    },
    {
      "metadata": {
        "id": "_T7JCrGM5SoZ",
        "colab_type": "code",
        "colab": {
          "autoexec": {
            "startup": false,
            "wait_interval": 0
          }
        }
      },
      "cell_type": "code",
      "source": [
        "DataSet = DataSet.sort_values([\"Marital Age\"], ascending=True, axis=0)\n"
      ],
      "execution_count": 0,
      "outputs": []
    },
    {
      "metadata": {
        "id": "ZG0tIDCTBgFZ",
        "colab_type": "code",
        "colab": {
          "autoexec": {
            "startup": false,
            "wait_interval": 0
          },
          "base_uri": "https://localhost:8080/",
          "height": 235
        },
        "outputId": "9a87509a-e859-4453-96bb-d4ff03b04971",
        "executionInfo": {
          "status": "ok",
          "timestamp": 1526335705520,
          "user_tz": 240,
          "elapsed": 268,
          "user": {
            "displayName": "Oleksandra Plyska",
            "photoUrl": "https://lh3.googleusercontent.com/a/default-user=s128",
            "userId": "106365156166456501273"
          }
        }
      },
      "cell_type": "code",
      "source": [
        "DataSet.corr()"
      ],
      "execution_count": 328,
      "outputs": [
        {
          "output_type": "execute_result",
          "data": {
            "text/html": [
              "<div>\n",
              "<style scoped>\n",
              "    .dataframe tbody tr th:only-of-type {\n",
              "        vertical-align: middle;\n",
              "    }\n",
              "\n",
              "    .dataframe tbody tr th {\n",
              "        vertical-align: top;\n",
              "    }\n",
              "\n",
              "    .dataframe thead th {\n",
              "        text-align: right;\n",
              "    }\n",
              "</style>\n",
              "<table border=\"1\" class=\"dataframe\">\n",
              "  <thead>\n",
              "    <tr style=\"text-align: right;\">\n",
              "      <th></th>\n",
              "      <th>Marital Age</th>\n",
              "      <th>GDP</th>\n",
              "      <th>LFPR</th>\n",
              "      <th>Unemployed Females</th>\n",
              "      <th>Population</th>\n",
              "      <th>Female Students</th>\n",
              "    </tr>\n",
              "  </thead>\n",
              "  <tbody>\n",
              "    <tr>\n",
              "      <th>Marital Age</th>\n",
              "      <td>1.000000</td>\n",
              "      <td>0.160481</td>\n",
              "      <td>0.273015</td>\n",
              "      <td>-0.116044</td>\n",
              "      <td>-0.257301</td>\n",
              "      <td>0.032460</td>\n",
              "    </tr>\n",
              "    <tr>\n",
              "      <th>GDP</th>\n",
              "      <td>0.160481</td>\n",
              "      <td>1.000000</td>\n",
              "      <td>0.269742</td>\n",
              "      <td>-0.125114</td>\n",
              "      <td>0.340039</td>\n",
              "      <td>-0.142043</td>\n",
              "    </tr>\n",
              "    <tr>\n",
              "      <th>LFPR</th>\n",
              "      <td>0.273015</td>\n",
              "      <td>0.269742</td>\n",
              "      <td>1.000000</td>\n",
              "      <td>-0.585635</td>\n",
              "      <td>-0.009165</td>\n",
              "      <td>-0.123991</td>\n",
              "    </tr>\n",
              "    <tr>\n",
              "      <th>Unemployed Females</th>\n",
              "      <td>-0.116044</td>\n",
              "      <td>-0.125114</td>\n",
              "      <td>-0.585635</td>\n",
              "      <td>1.000000</td>\n",
              "      <td>0.258407</td>\n",
              "      <td>0.056181</td>\n",
              "    </tr>\n",
              "    <tr>\n",
              "      <th>Population</th>\n",
              "      <td>-0.257301</td>\n",
              "      <td>0.340039</td>\n",
              "      <td>-0.009165</td>\n",
              "      <td>0.258407</td>\n",
              "      <td>1.000000</td>\n",
              "      <td>-0.194367</td>\n",
              "    </tr>\n",
              "    <tr>\n",
              "      <th>Female Students</th>\n",
              "      <td>0.032460</td>\n",
              "      <td>-0.142043</td>\n",
              "      <td>-0.123991</td>\n",
              "      <td>0.056181</td>\n",
              "      <td>-0.194367</td>\n",
              "      <td>1.000000</td>\n",
              "    </tr>\n",
              "  </tbody>\n",
              "</table>\n",
              "</div>"
            ],
            "text/plain": [
              "                    Marital Age       GDP      LFPR  Unemployed Females  \\\n",
              "Marital Age            1.000000  0.160481  0.273015           -0.116044   \n",
              "GDP                    0.160481  1.000000  0.269742           -0.125114   \n",
              "LFPR                   0.273015  0.269742  1.000000           -0.585635   \n",
              "Unemployed Females    -0.116044 -0.125114 -0.585635            1.000000   \n",
              "Population            -0.257301  0.340039 -0.009165            0.258407   \n",
              "Female Students        0.032460 -0.142043 -0.123991            0.056181   \n",
              "\n",
              "                    Population  Female Students  \n",
              "Marital Age          -0.257301         0.032460  \n",
              "GDP                   0.340039        -0.142043  \n",
              "LFPR                 -0.009165        -0.123991  \n",
              "Unemployed Females    0.258407         0.056181  \n",
              "Population            1.000000        -0.194367  \n",
              "Female Students      -0.194367         1.000000  "
            ]
          },
          "metadata": {
            "tags": []
          },
          "execution_count": 328
        }
      ]
    },
    {
      "metadata": {
        "id": "co2LVF39Cjt4",
        "colab_type": "text"
      },
      "cell_type": "markdown",
      "source": [
        "The above table shows the correlation between all variables. It is clear that marital age has a positive corelation with GDP and Female Students, as in the higher % of female students, the higher the age females get married. The higher the GDP, the higher the age of females when they get married.\n",
        "\n",
        "The results also show that there is a negative correlation between the age when females get married and the % of unemployed females. This shows that the more unemployed females, the earlier females get married."
      ]
    },
    {
      "metadata": {
        "id": "_8f7uGGuF8VB",
        "colab_type": "text"
      },
      "cell_type": "markdown",
      "source": [
        "### This is a graph showing the relationship between unemployed females and marital age.\n"
      ]
    },
    {
      "metadata": {
        "id": "dm_JhVwertxP",
        "colab_type": "text"
      },
      "cell_type": "markdown",
      "source": [
        "There is a really weak correlation between the variables. However, it is interesting to observe that some of the outliers have a high unemployment rate and, at the same time, high marital age. "
      ]
    },
    {
      "metadata": {
        "id": "BV00YuF-_ZOB",
        "colab_type": "code",
        "colab": {
          "autoexec": {
            "startup": false,
            "wait_interval": 0
          },
          "base_uri": "https://localhost:8080/",
          "height": 693
        },
        "outputId": "ea3da083-49de-48bd-9b10-ffc444055d8a",
        "executionInfo": {
          "status": "ok",
          "timestamp": 1526335714254,
          "user_tz": 240,
          "elapsed": 374,
          "user": {
            "displayName": "Oleksandra Plyska",
            "photoUrl": "https://lh3.googleusercontent.com/a/default-user=s128",
            "userId": "106365156166456501273"
          }
        }
      },
      "cell_type": "code",
      "source": [
        "DataSet.plot.scatter(x=\"Marital Age\", \n",
        "                y=\"Unemployed Females\", \n",
        "                alpha=0.9, \n",
        "                title='Unemployed Females and Marital Age',\n",
        "                s=60,\n",
        "                figsize=(10, 11), \n",
        "                color = \"blue\")\n"
      ],
      "execution_count": 329,
      "outputs": [
        {
          "output_type": "execute_result",
          "data": {
            "text/plain": [
              "<matplotlib.axes._subplots.AxesSubplot at 0x7fdc9ff5ecd0>"
            ]
          },
          "metadata": {
            "tags": []
          },
          "execution_count": 329
        },
        {
          "output_type": "display_data",
          "data": {
            "image/png": "[encoded data removed]",
            "text/plain": [
              "<matplotlib.figure.Figure at 0x7fdca00019d0>"
            ]
          },
          "metadata": {
            "tags": []
          }
        }
      ]
    },
    {
      "metadata": {
        "id": "mlDb83SyGNWt",
        "colab_type": "text"
      },
      "cell_type": "markdown",
      "source": [
        "### This is a graph between GDP and Marital Age.\n",
        "\n",
        "The relationship seems no be not very significant, however, there  is a slight trend of some countries that have higher GDP to have a higher marital age."
      ]
    },
    {
      "metadata": {
        "id": "hZxkbeqL-i6K",
        "colab_type": "code",
        "colab": {
          "autoexec": {
            "startup": false,
            "wait_interval": 0
          },
          "base_uri": "https://localhost:8080/",
          "height": 693
        },
        "outputId": "4970c0a2-e3d3-4800-cb8c-52f111225f3c",
        "executionInfo": {
          "status": "ok",
          "timestamp": 1526335717679,
          "user_tz": 240,
          "elapsed": 398,
          "user": {
            "displayName": "Oleksandra Plyska",
            "photoUrl": "https://lh3.googleusercontent.com/a/default-user=s128",
            "userId": "106365156166456501273"
          }
        }
      },
      "cell_type": "code",
      "source": [
        "DataSet.plot.scatter(x=\"Marital Age\", \n",
        "                y=\"GDP\", \n",
        "                alpha=0.9, \n",
        "                title='GDP and Marital Age',\n",
        "                s=60,\n",
        "                figsize=(10, 11), \n",
        "                color = \"red\")\n"
      ],
      "execution_count": 330,
      "outputs": [
        {
          "output_type": "execute_result",
          "data": {
            "text/plain": [
              "<matplotlib.axes._subplots.AxesSubplot at 0x7fdc9ff51f90>"
            ]
          },
          "metadata": {
            "tags": []
          },
          "execution_count": 330
        },
        {
          "output_type": "display_data",
          "data": {
            "image/png": "[encoded data removed]",
            "text/plain": [
              "<matplotlib.figure.Figure at 0x7fdc9fdf9110>"
            ]
          },
          "metadata": {
            "tags": []
          }
        }
      ]
    },
    {
      "metadata": {
        "id": "OIFBYF2WGirR",
        "colab_type": "text"
      },
      "cell_type": "markdown",
      "source": [
        "### This is a graph between Marital Age and Female students\n",
        "\n",
        "\n",
        "The relationship between variable is rather weak overall, however, we can observe that in countries that have the lowest education rates the marital age is very low. "
      ]
    },
    {
      "metadata": {
        "id": "RQbMyozWGYiz",
        "colab_type": "code",
        "colab": {
          "autoexec": {
            "startup": false,
            "wait_interval": 0
          },
          "base_uri": "https://localhost:8080/",
          "height": 693
        },
        "outputId": "e3cfe52a-15ff-4300-8570-a72cdec67905",
        "executionInfo": {
          "status": "ok",
          "timestamp": 1526335719905,
          "user_tz": 240,
          "elapsed": 489,
          "user": {
            "displayName": "Oleksandra Plyska",
            "photoUrl": "https://lh3.googleusercontent.com/a/default-user=s128",
            "userId": "106365156166456501273"
          }
        }
      },
      "cell_type": "code",
      "source": [
        "DataSet.plot.scatter(x=\"Marital Age\", \n",
        "                y=\"Female Students\", \n",
        "                alpha=0.9, \n",
        "                title='Female Students and Marital Age',\n",
        "                s=60,\n",
        "                figsize=(10, 11), \n",
        "                color = \"green\")\n"
      ],
      "execution_count": 331,
      "outputs": [
        {
          "output_type": "execute_result",
          "data": {
            "text/plain": [
              "<matplotlib.axes._subplots.AxesSubplot at 0x7fdcacecbd50>"
            ]
          },
          "metadata": {
            "tags": []
          },
          "execution_count": 331
        },
        {
          "output_type": "display_data",
          "data": {
            "image/png": "[encoded data removed]",
            "text/plain": [
              "<matplotlib.figure.Figure at 0x7fdc9fd7a910>"
            ]
          },
          "metadata": {
            "tags": []
          }
        }
      ]
    },
    {
      "metadata": {
        "id": "NmsCR_y4kQ-v",
        "colab_type": "text"
      },
      "cell_type": "markdown",
      "source": [
        "# Now we will demonstrate the relationship of GDP to the marital age on a plot given the size of the countries"
      ]
    },
    {
      "metadata": {
        "id": "OIoBOwVEkvsW",
        "colab_type": "text"
      },
      "cell_type": "markdown",
      "source": [
        "We are setting the GDP as our x-axis and the marital age as y-axis. The size of the bubble correlate with the size of the countries, which gives us the idea about where the larger and smaller countries stand in relationship to the outliers. "
      ]
    },
    {
      "metadata": {
        "id": "Z-VCjNilTFH_",
        "colab_type": "code",
        "colab": {
          "autoexec": {
            "startup": false,
            "wait_interval": 0
          },
          "base_uri": "https://localhost:8080/",
          "height": 376
        },
        "outputId": "f19785c4-3a2d-4bff-b4b0-f0849f28583a",
        "executionInfo": {
          "status": "ok",
          "timestamp": 1526335724167,
          "user_tz": 240,
          "elapsed": 2373,
          "user": {
            "displayName": "Oleksandra Plyska",
            "photoUrl": "https://lh3.googleusercontent.com/a/default-user=s128",
            "userId": "106365156166456501273"
          }
        }
      },
      "cell_type": "code",
      "source": [
        "fig, ax = plt.subplots()\n",
        "\n",
        "ax.scatter((DataSet[\"GDP\"]), (DataSet[\"Marital Age\"]), \n",
        "            s=DataSet['Population'], \n",
        "            alpha= 0.76) \n",
        "\n",
        "\n",
        "ax.set_title(\"GDP vs. Marital Age\")\n",
        "ax.set_ylabel(\"Marital Age\") \n",
        "ax.set_xlabel(\"GDP\")\n",
        "xlabel_list = np.exp(range (5, 20)) \n",
        "xlabel_list = np.round(xlabel_list, -2) \n",
        "\n",
        "\n",
        "ax.set_xticklabels(xlabel_list)\n",
        "\n",
        "ax.spines[\"right\"].set_visible(False)\n",
        "ax.spines[\"top\"].set_visible(False)\n",
        "\n",
        "plt.savefig(\"hc.png\", bbox_inches=\"tight\", dpi = 600)\n",
        "\n",
        "plt.show()"
      ],
      "execution_count": 332,
      "outputs": [
        {
          "output_type": "display_data",
          "data": {
            "image/png": "[encoded data removed]",
            "text/plain": [
              "<matplotlib.figure.Figure at 0x7fdc9fbc3190>"
            ]
          },
          "metadata": {
            "tags": []
          }
        }
      ]
    },
    {
      "metadata": {
        "id": "rjhZsgI6IIyp",
        "colab_type": "text"
      },
      "cell_type": "markdown",
      "source": [
        "### This is a bar chart of the top 8 countries with highest female marital age.\n",
        "Montserrat is the highest with 31.9 as the average age, followed by Ireland and Norway."
      ]
    },
    {
      "metadata": {
        "id": "KDiyajC_7Y2q",
        "colab_type": "code",
        "colab": {
          "autoexec": {
            "startup": false,
            "wait_interval": 0
          },
          "base_uri": "https://localhost:8080/",
          "height": 884
        },
        "outputId": "167d0f77-8871-4317-8bc5-30d8141ae188",
        "executionInfo": {
          "status": "ok",
          "timestamp": 1526335727258,
          "user_tz": 240,
          "elapsed": 625,
          "user": {
            "displayName": "Oleksandra Plyska",
            "photoUrl": "https://lh3.googleusercontent.com/a/default-user=s128",
            "userId": "106365156166456501273"
          }
        }
      },
      "cell_type": "code",
      "source": [
        "DataSet = DataSet.set_index(\"Country Name\")\n",
        "dsnew = DataSet.sort_values(\"Marital Age\")\n",
        "dsnew = DataSet[\"Marital Age\"].tail(8)\n",
        "dsnew.plot(kind=\"barh\", figsize=(10, 15), color= \"salmon\")\n",
        "plt.title(\"Top 8 Countries with the Largest Female Marital Age\", fontsize=20,fontweight='bold')\n",
        "plt.show()\n"
      ],
      "execution_count": 333,
      "outputs": [
        {
          "output_type": "display_data",
          "data": {
            "image/png": "[encoded data removed]",
            "text/plain": [
              "<matplotlib.figure.Figure at 0x7fdc9fb6acd0>"
            ]
          },
          "metadata": {
            "tags": []
          }
        }
      ]
    },
    {
      "metadata": {
        "id": "BK7CzmHbIj4e",
        "colab_type": "text"
      },
      "cell_type": "markdown",
      "source": [
        "### This bar chart shows the top 8 countries witht the lowest female marital age.\n",
        "Bangladesh is country whose average female gets married the earliest with an average marital age of 18.6, followed by Mozambique and Nepal."
      ]
    },
    {
      "metadata": {
        "id": "r-h1Ag60AtzW",
        "colab_type": "code",
        "colab": {
          "autoexec": {
            "startup": false,
            "wait_interval": 0
          },
          "base_uri": "https://localhost:8080/",
          "height": 884
        },
        "outputId": "e1be06bc-088b-49df-846e-cc57244fd5c6",
        "executionInfo": {
          "status": "ok",
          "timestamp": 1526335730059,
          "user_tz": 240,
          "elapsed": 700,
          "user": {
            "displayName": "Oleksandra Plyska",
            "photoUrl": "https://lh3.googleusercontent.com/a/default-user=s128",
            "userId": "106365156166456501273"
          }
        }
      },
      "cell_type": "code",
      "source": [
        "dsnew = DataSet.sort_values(\"Marital Age\")\n",
        "dsnew = DataSet[\"Marital Age\"].head(8)\n",
        "dsnew.plot(kind=\"barh\", figsize=(10, 15), color= \"salmon\")\n",
        "plt.title(\"Top 8 Countries with the Smallest Female Marital Age\", fontsize=20,fontweight='bold')\n",
        "plt.show()"
      ],
      "execution_count": 334,
      "outputs": [
        {
          "output_type": "display_data",
          "data": {
            "image/png": "[encoded data removed]",
            "text/plain": [
              "<matplotlib.figure.Figure at 0x7fdc9fb56f10>"
            ]
          },
          "metadata": {
            "tags": []
          }
        }
      ]
    },
    {
      "metadata": {
        "id": "jqcXRlcNoWf0",
        "colab_type": "text"
      },
      "cell_type": "markdown",
      "source": [
        "# Mapping"
      ]
    },
    {
      "metadata": {
        "id": "YS4_LkeyoZw-",
        "colab_type": "text"
      },
      "cell_type": "markdown",
      "source": [
        "In order to demonstrate on a map how the marital age varies not only across countries, but across regions of the world as well, we created a map. The lowest marital age correlates with the lightest color and the highest marital age with the darker accordingly. Due to the limited availability of the data for marital age, unfortunately, we are not able to abserve the colors for every country of the world. However, we can observe the general trends: in Australia, Greenland and most of the countries of Northern Europe the marital age is higher than average, while in countries with data for Africa, Asia and the Middle East it is lower. "
      ]
    },
    {
      "metadata": {
        "id": "LESu_bnj3mUd",
        "colab_type": "code",
        "colab": {
          "autoexec": {
            "startup": false,
            "wait_interval": 0
          },
          "base_uri": "https://localhost:8080/",
          "height": 417
        },
        "outputId": "3c711779-036b-4f3c-9ed6-d859fc90ac1b",
        "executionInfo": {
          "status": "ok",
          "timestamp": 1526335735327,
          "user_tz": 240,
          "elapsed": 2206,
          "user": {
            "displayName": "Oleksandra Plyska",
            "photoUrl": "https://lh3.googleusercontent.com/a/default-user=s128",
            "userId": "106365156166456501273"
          }
        }
      },
      "cell_type": "code",
      "source": [
        "!pip install geopandas"
      ],
      "execution_count": 335,
      "outputs": [
        {
          "output_type": "stream",
          "text": [
            "Requirement already satisfied: geopandas in /usr/local/lib/python2.7/dist-packages (0.3.0)\r\n",
            "Requirement already satisfied: descartes in /usr/local/lib/python2.7/dist-packages (from geopandas) (1.1.0)\r\n",
            "Requirement already satisfied: shapely in /usr/local/lib/python2.7/dist-packages (from geopandas) (1.6.4.post1)\r\n",
            "Requirement already satisfied: fiona in /usr/local/lib/python2.7/dist-packages (from geopandas) (1.7.11.post2)\r\n",
            "Requirement already satisfied: pandas in /usr/local/lib/python2.7/dist-packages (from geopandas) (0.22.0)\r\n",
            "Requirement already satisfied: pyproj in /usr/local/lib/python2.7/dist-packages (from geopandas) (1.9.5.1)\n",
            "Requirement already satisfied: matplotlib in /usr/local/lib/python2.7/dist-packages (from descartes->geopandas) (2.1.2)\n",
            "Requirement already satisfied: six>=1.7 in /usr/local/lib/python2.7/dist-packages (from fiona->geopandas) (1.11.0)\n",
            "Requirement already satisfied: click-plugins in /usr/local/lib/python2.7/dist-packages (from fiona->geopandas) (1.0.3)\n",
            "Requirement already satisfied: enum34 in /usr/local/lib/python2.7/dist-packages (from fiona->geopandas) (1.1.6)\n",
            "Requirement already satisfied: cligj>=0.4 in /usr/local/lib/python2.7/dist-packages (from fiona->geopandas) (0.4.0)\n",
            "Requirement already satisfied: munch in /usr/local/lib/python2.7/dist-packages (from fiona->geopandas) (2.3.2)\n",
            "Requirement already satisfied: pytz>=2011k in /usr/local/lib/python2.7/dist-packages (from pandas->geopandas) (2018.4)\n",
            "Requirement already satisfied: python-dateutil in /usr/local/lib/python2.7/dist-packages (from pandas->geopandas) (2.5.3)\n",
            "Requirement already satisfied: numpy>=1.9.0 in /usr/local/lib/python2.7/dist-packages (from pandas->geopandas) (1.14.3)\n",
            "Requirement already satisfied: cycler>=0.10 in /usr/local/lib/python2.7/dist-packages (from matplotlib->descartes->geopandas) (0.10.0)\n",
            "Requirement already satisfied: backports.functools-lru-cache in /usr/local/lib/python2.7/dist-packages (from matplotlib->descartes->geopandas) (1.5)\n",
            "Requirement already satisfied: subprocess32 in /usr/local/lib/python2.7/dist-packages (from matplotlib->descartes->geopandas) (3.5.0)\n",
            "Requirement already satisfied: pyparsing!=2.0.4,!=2.1.2,!=2.1.6,>=2.0.1 in /usr/local/lib/python2.7/dist-packages (from matplotlib->descartes->geopandas) (2.2.0)\n",
            "Requirement already satisfied: click>=3.0 in /usr/local/lib/python2.7/dist-packages (from click-plugins->fiona->geopandas) (6.7)\n"
          ],
          "name": "stdout"
        }
      ]
    },
    {
      "metadata": {
        "id": "VsNJyU3KPcf1",
        "colab_type": "code",
        "colab": {
          "autoexec": {
            "startup": false,
            "wait_interval": 0
          }
        }
      },
      "cell_type": "code",
      "source": [
        "world = gpd.read_file(gpd.datasets.get_path('naturalearth_lowres'))\n",
        "world.rename(columns = {\"name\": \"Country Name\"}, inplace = True)"
      ],
      "execution_count": 0,
      "outputs": []
    },
    {
      "metadata": {
        "id": "Kh8I5PHsix1C",
        "colab_type": "code",
        "colab": {
          "autoexec": {
            "startup": false,
            "wait_interval": 0
          }
        }
      },
      "cell_type": "code",
      "source": [
        "NEW = pd.merge(world, DataSet, on='Country Name')\n"
      ],
      "execution_count": 0,
      "outputs": []
    },
    {
      "metadata": {
        "id": "etU3T-g5i4Qg",
        "colab_type": "code",
        "colab": {
          "autoexec": {
            "startup": false,
            "wait_interval": 0
          },
          "base_uri": "https://localhost:8080/",
          "height": 483
        },
        "outputId": "e3d4667c-fd61-4f0b-9b2f-645b95970b47",
        "executionInfo": {
          "status": "ok",
          "timestamp": 1526335787439,
          "user_tz": 240,
          "elapsed": 579,
          "user": {
            "displayName": "Oleksandra Plyska",
            "photoUrl": "https://lh3.googleusercontent.com/a/default-user=s128",
            "userId": "106365156166456501273"
          }
        }
      },
      "cell_type": "code",
      "source": [
        "fig, ax = plt.subplots(figsize = (10,8))\n",
        "\n",
        "NEW.plot(ax = ax, edgecolor='tab:grey',\n",
        "             column='Marital Age', \n",
        "             cmap='OrRd', \n",
        "             alpha = 0.8)\n",
        "plt.show()"
      ],
      "execution_count": 341,
      "outputs": [
        {
          "output_type": "display_data",
          "data": {
            "image/png": "[encoded data removed]",
            "text/plain": [
              "<matplotlib.figure.Figure at 0x7fdc9f9ed210>"
            ]
          },
          "metadata": {
            "tags": []
          }
        }
      ]
    },
    {
      "metadata": {
        "id": "1wvwQI_otQBM",
        "colab_type": "text"
      },
      "cell_type": "markdown",
      "source": [
        "# Conclusion"
      ]
    },
    {
      "metadata": {
        "id": "_p9ioztwqGeM",
        "colab_type": "text"
      },
      "cell_type": "markdown",
      "source": [
        "In conclusion, after running all these codes and getting the correlation, it seems that marital age is more culturally related and based by regions than dependent on other socioeconomic factors. Of course you may be able to link a correlation but as mentioned before it is a weak correlation."
      ]
    }
  ]
}